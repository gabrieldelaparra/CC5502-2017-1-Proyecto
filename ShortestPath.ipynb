{
 "cells": [
  {
   "cell_type": "markdown",
   "metadata": {},
   "source": [
    "# Geometría Computacional\n",
    "Gabriel De La Parra"
   ]
  },
  {
   "cell_type": "markdown",
   "metadata": {},
   "source": [
    "## Introducción\n",
    "Otra aplicación posible de "
   ]
  },
  {
   "cell_type": "code",
   "execution_count": 32,
   "metadata": {},
   "outputs": [],
   "source": [
    "import pdfplumber"
   ]
  },
  {
   "cell_type": "code",
   "execution_count": 33,
   "metadata": {},
   "outputs": [
    {
     "name": "stdout",
     "output_type": "stream",
     "text": [
      "Pages: 71\n",
      "Metadata: {'PTEX.Fullbanner': 'This is MiKTeX-pdfTeX 2.9.4535 (1.40.13)', 'Creator': 'TeX', 'Trapped': 'False', 'ModDate': \"D:20140923164138+02'00'\", 'Producer': 'MiKTeX pdfTeX-1.40.13', 'CreationDate': \"D:20140923163210+02'00'\"}\n"
     ]
    }
   ],
   "source": [
    "with pdfplumber.open(\"paper1.pdf\") as pdf:\n",
    "    pages = pdf.pages\n",
    "    metadata = pdf.metadata\n",
    "    print(\"Pages:\",len(pages))\n",
    "    print(\"Metadata:\",metadata)"
   ]
  },
  {
   "cell_type": "code",
   "execution_count": 34,
   "metadata": {},
   "outputs": [
    {
     "ename": "ImportError",
     "evalue": "MagickWand shared library not found.\nYou probably had not installed ImageMagick library.\nTry to install:\n  http://docs.wand-py.org/en/latest/guide/install.html#install-imagemagick-on-windows",
     "output_type": "error",
     "traceback": [
      "\u001b[1;31m---------------------------------------------------------------------------\u001b[0m",
      "\u001b[1;31mOSError\u001b[0m                                   Traceback (most recent call last)",
      "\u001b[1;32mC:\\Anaconda3\\lib\\site-packages\\wand\\api.py\u001b[0m in \u001b[0;36m<module>\u001b[1;34m()\u001b[0m\n\u001b[0;32m    179\u001b[0m \u001b[1;32mtry\u001b[0m\u001b[1;33m:\u001b[0m\u001b[1;33m\u001b[0m\u001b[0m\n\u001b[1;32m--> 180\u001b[1;33m     \u001b[0mlibraries\u001b[0m \u001b[1;33m=\u001b[0m \u001b[0mload_library\u001b[0m\u001b[1;33m(\u001b[0m\u001b[1;33m)\u001b[0m\u001b[1;33m\u001b[0m\u001b[0m\n\u001b[0m\u001b[0;32m    181\u001b[0m \u001b[1;32mexcept\u001b[0m \u001b[1;33m(\u001b[0m\u001b[0mOSError\u001b[0m\u001b[1;33m,\u001b[0m \u001b[0mIOError\u001b[0m\u001b[1;33m)\u001b[0m\u001b[1;33m:\u001b[0m\u001b[1;33m\u001b[0m\u001b[0m\n",
      "\u001b[1;32mC:\\Anaconda3\\lib\\site-packages\\wand\\api.py\u001b[0m in \u001b[0;36mload_library\u001b[1;34m()\u001b[0m\n\u001b[0;32m    134\u001b[0m         \u001b[1;32mreturn\u001b[0m \u001b[0mlibwand\u001b[0m\u001b[1;33m,\u001b[0m \u001b[0mlibmagick\u001b[0m\u001b[1;33m\u001b[0m\u001b[0m\n\u001b[1;32m--> 135\u001b[1;33m     \u001b[1;32mraise\u001b[0m \u001b[0mIOError\u001b[0m\u001b[1;33m(\u001b[0m\u001b[1;34m'cannot find library; tried paths: '\u001b[0m \u001b[1;33m+\u001b[0m \u001b[0mrepr\u001b[0m\u001b[1;33m(\u001b[0m\u001b[0mtried_paths\u001b[0m\u001b[1;33m)\u001b[0m\u001b[1;33m)\u001b[0m\u001b[1;33m\u001b[0m\u001b[0m\n\u001b[0m\u001b[0;32m    136\u001b[0m \u001b[1;33m\u001b[0m\u001b[0m\n",
      "\u001b[1;31mOSError\u001b[0m: cannot find library; tried paths: ['C:\\\\Program Files\\\\ImageMagick-7.0.6-Q16\\\\CORE_RL_wand_.dll', 'C:\\\\Program Files\\\\ImageMagick-7.0.6-Q16\\\\libMagickWand.dll', 'C:\\\\Program Files\\\\ImageMagick-7.0.6-Q16\\\\CORE_RL_wand_HDRI.dll', 'C:\\\\Program Files\\\\ImageMagick-7.0.6-Q16\\\\libMagickWandHDRI.dll', 'C:\\\\Program Files\\\\ImageMagick-7.0.6-Q16\\\\CORE_RL_wand_HDRI-2.dll', 'C:\\\\Program Files\\\\ImageMagick-7.0.6-Q16\\\\libMagickWandHDRI-2.dll', 'C:\\\\Program Files\\\\ImageMagick-7.0.6-Q16\\\\CORE_RL_wand_-6.dll', 'C:\\\\Program Files\\\\ImageMagick-7.0.6-Q16\\\\libMagickWand-6.dll', 'C:\\\\Program Files\\\\ImageMagick-7.0.6-Q16\\\\CORE_RL_wand_-6HDRI.dll', 'C:\\\\Program Files\\\\ImageMagick-7.0.6-Q16\\\\libMagickWand-6HDRI.dll', 'C:\\\\Program Files\\\\ImageMagick-7.0.6-Q16\\\\CORE_RL_wand_-6HDRI-2.dll', 'C:\\\\Program Files\\\\ImageMagick-7.0.6-Q16\\\\libMagickWand-6HDRI-2.dll', 'C:\\\\Program Files\\\\ImageMagick-7.0.6-Q16\\\\CORE_RL_wand_-Q16.dll', 'C:\\\\Program Files\\\\ImageMagick-7.0.6-Q16\\\\libMagickWand-Q16.dll', 'C:\\\\Program Files\\\\ImageMagick-7.0.6-Q16\\\\CORE_RL_wand_-Q16HDRI.dll', 'C:\\\\Program Files\\\\ImageMagick-7.0.6-Q16\\\\libMagickWand-Q16HDRI.dll', 'C:\\\\Program Files\\\\ImageMagick-7.0.6-Q16\\\\CORE_RL_wand_-Q16HDRI-2.dll', 'C:\\\\Program Files\\\\ImageMagick-7.0.6-Q16\\\\libMagickWand-Q16HDRI-2.dll', 'C:\\\\Program Files\\\\ImageMagick-7.0.6-Q16\\\\CORE_RL_wand_-Q8.dll', 'C:\\\\Program Files\\\\ImageMagick-7.0.6-Q16\\\\libMagickWand-Q8.dll', 'C:\\\\Program Files\\\\ImageMagick-7.0.6-Q16\\\\CORE_RL_wand_-Q8HDRI.dll', 'C:\\\\Program Files\\\\ImageMagick-7.0.6-Q16\\\\libMagickWand-Q8HDRI.dll', 'C:\\\\Program Files\\\\ImageMagick-7.0.6-Q16\\\\CORE_RL_wand_-Q8HDRI-2.dll', 'C:\\\\Program Files\\\\ImageMagick-7.0.6-Q16\\\\libMagickWand-Q8HDRI-2.dll', 'C:\\\\Program Files\\\\ImageMagick-7.0.6-Q16\\\\CORE_RL_wand_-6.Q16.dll', 'C:\\\\Program Files\\\\ImageMagick-7.0.6-Q16\\\\libMagickWand-6.Q16.dll', 'C:\\\\Program Files\\\\ImageMagick-7.0.6-Q16\\\\CORE_RL_wand_-6.Q16HDRI.dll', 'C:\\\\Program Files\\\\ImageMagick-7.0.6-Q16\\\\libMagickWand-6.Q16HDRI.dll', 'C:\\\\Program Files\\\\ImageMagick-7.0.6-Q16\\\\CORE_RL_wand_-6.Q16HDRI-2.dll', 'C:\\\\Program Files\\\\ImageMagick-7.0.6-Q16\\\\libMagickWand-6.Q16HDRI-2.dll']",
      "\nDuring handling of the above exception, another exception occurred:\n",
      "\u001b[1;31mImportError\u001b[0m                               Traceback (most recent call last)",
      "\u001b[1;32m<ipython-input-34-53c23d8e67f4>\u001b[0m in \u001b[0;36m<module>\u001b[1;34m()\u001b[0m\n\u001b[1;32m----> 1\u001b[1;33m \u001b[0mpages\u001b[0m\u001b[1;33m[\u001b[0m\u001b[1;36m16\u001b[0m\u001b[1;33m]\u001b[0m\u001b[1;33m.\u001b[0m\u001b[0mto_image\u001b[0m\u001b[1;33m(\u001b[0m\u001b[1;33m)\u001b[0m\u001b[1;33m\u001b[0m\u001b[0m\n\u001b[0m",
      "\u001b[1;32mC:\\Anaconda3\\lib\\site-packages\\pdfplumber\\page.py\u001b[0m in \u001b[0;36mto_image\u001b[1;34m(self, resolution)\u001b[0m\n\u001b[0;32m    208\u001b[0m         \u001b[0mFor\u001b[0m \u001b[0mconversion_kwargs\u001b[0m\u001b[1;33m,\u001b[0m \u001b[0msee\u001b[0m \u001b[0mhttp\u001b[0m\u001b[1;33m:\u001b[0m\u001b[1;33m//\u001b[0m\u001b[0mdocs\u001b[0m\u001b[1;33m.\u001b[0m\u001b[0mwand\u001b[0m\u001b[1;33m-\u001b[0m\u001b[0mpy\u001b[0m\u001b[1;33m.\u001b[0m\u001b[0morg\u001b[0m\u001b[1;33m/\u001b[0m\u001b[0men\u001b[0m\u001b[1;33m/\u001b[0m\u001b[0mlatest\u001b[0m\u001b[1;33m/\u001b[0m\u001b[0mwand\u001b[0m\u001b[1;33m/\u001b[0m\u001b[0mimage\u001b[0m\u001b[1;33m.\u001b[0m\u001b[0mhtml\u001b[0m\u001b[1;31m#wand.image.Image\u001b[0m\u001b[1;33m\u001b[0m\u001b[0m\n\u001b[0;32m    209\u001b[0m         \"\"\"\n\u001b[1;32m--> 210\u001b[1;33m         \u001b[1;32mfrom\u001b[0m \u001b[1;33m.\u001b[0m\u001b[0mdisplay\u001b[0m \u001b[1;32mimport\u001b[0m \u001b[0mPageImage\u001b[0m\u001b[1;33m,\u001b[0m \u001b[0mDEFAULT_RESOLUTION\u001b[0m\u001b[1;33m\u001b[0m\u001b[0m\n\u001b[0m\u001b[0;32m    211\u001b[0m         \u001b[0mres\u001b[0m \u001b[1;33m=\u001b[0m \u001b[0mresolution\u001b[0m \u001b[1;32mor\u001b[0m \u001b[0mDEFAULT_RESOLUTION\u001b[0m\u001b[1;33m\u001b[0m\u001b[0m\n\u001b[0;32m    212\u001b[0m         \u001b[1;32mreturn\u001b[0m \u001b[0mPageImage\u001b[0m\u001b[1;33m(\u001b[0m\u001b[0mself\u001b[0m\u001b[1;33m,\u001b[0m \u001b[0mresolution\u001b[0m\u001b[1;33m=\u001b[0m\u001b[0mres\u001b[0m\u001b[1;33m)\u001b[0m\u001b[1;33m\u001b[0m\u001b[0m\n",
      "\u001b[1;32mC:\\Anaconda3\\lib\\site-packages\\pdfplumber\\display.py\u001b[0m in \u001b[0;36m<module>\u001b[1;34m()\u001b[0m\n\u001b[0;32m      1\u001b[0m \u001b[1;32mimport\u001b[0m \u001b[0mPIL\u001b[0m\u001b[1;33m.\u001b[0m\u001b[0mImage\u001b[0m\u001b[1;33m\u001b[0m\u001b[0m\n\u001b[0;32m      2\u001b[0m \u001b[1;32mimport\u001b[0m \u001b[0mPIL\u001b[0m\u001b[1;33m.\u001b[0m\u001b[0mImageDraw\u001b[0m\u001b[1;33m\u001b[0m\u001b[0m\n\u001b[1;32m----> 3\u001b[1;33m \u001b[1;32mimport\u001b[0m \u001b[0mwand\u001b[0m\u001b[1;33m.\u001b[0m\u001b[0mimage\u001b[0m\u001b[1;33m\u001b[0m\u001b[0m\n\u001b[0m\u001b[0;32m      4\u001b[0m \u001b[1;32mimport\u001b[0m \u001b[0msys\u001b[0m\u001b[1;33m,\u001b[0m \u001b[0mos\u001b[0m\u001b[1;33m\u001b[0m\u001b[0m\n\u001b[0;32m      5\u001b[0m \u001b[1;32mfrom\u001b[0m \u001b[0mio\u001b[0m \u001b[1;32mimport\u001b[0m \u001b[0mBytesIO\u001b[0m\u001b[1;33m\u001b[0m\u001b[0m\n",
      "\u001b[1;32mC:\\Anaconda3\\lib\\site-packages\\wand\\image.py\u001b[0m in \u001b[0;36m<module>\u001b[1;34m()\u001b[0m\n\u001b[0;32m     18\u001b[0m \u001b[1;33m\u001b[0m\u001b[0m\n\u001b[0;32m     19\u001b[0m \u001b[1;32mfrom\u001b[0m \u001b[1;33m.\u001b[0m \u001b[1;32mimport\u001b[0m \u001b[0mcompat\u001b[0m\u001b[1;33m\u001b[0m\u001b[0m\n\u001b[1;32m---> 20\u001b[1;33m \u001b[1;32mfrom\u001b[0m \u001b[1;33m.\u001b[0m\u001b[0mapi\u001b[0m \u001b[1;32mimport\u001b[0m \u001b[0mMagickPixelPacket\u001b[0m\u001b[1;33m,\u001b[0m \u001b[0mlibc\u001b[0m\u001b[1;33m,\u001b[0m \u001b[0mlibmagick\u001b[0m\u001b[1;33m,\u001b[0m \u001b[0mlibrary\u001b[0m\u001b[1;33m\u001b[0m\u001b[0m\n\u001b[0m\u001b[0;32m     21\u001b[0m \u001b[1;32mfrom\u001b[0m \u001b[1;33m.\u001b[0m\u001b[0mcolor\u001b[0m \u001b[1;32mimport\u001b[0m \u001b[0mColor\u001b[0m\u001b[1;33m\u001b[0m\u001b[0m\n\u001b[0;32m     22\u001b[0m from .compat import (binary, binary_type, encode_filename, file_types,\n",
      "\u001b[1;32mC:\\Anaconda3\\lib\\site-packages\\wand\\api.py\u001b[0m in \u001b[0;36m<module>\u001b[1;34m()\u001b[0m\n\u001b[0;32m    204\u001b[0m     raise ImportError('MagickWand shared library not found.\\n'\n\u001b[0;32m    205\u001b[0m                       \u001b[1;34m'You probably had not installed ImageMagick library.\\n'\u001b[0m\u001b[1;33m\u001b[0m\u001b[0m\n\u001b[1;32m--> 206\u001b[1;33m                       'Try to install:\\n  ' + msg)\n\u001b[0m\u001b[0;32m    207\u001b[0m \u001b[1;33m\u001b[0m\u001b[0m\n\u001b[0;32m    208\u001b[0m \u001b[1;31m#: (:class:`ctypes.CDLL`) The MagickWand library.\u001b[0m\u001b[1;33m\u001b[0m\u001b[1;33m\u001b[0m\u001b[0m\n",
      "\u001b[1;31mImportError\u001b[0m: MagickWand shared library not found.\nYou probably had not installed ImageMagick library.\nTry to install:\n  http://docs.wand-py.org/en/latest/guide/install.html#install-imagemagick-on-windows"
     ]
    }
   ],
   "source": [
    "pages[16].to_image()"
   ]
  }
 ],
 "metadata": {
  "kernelspec": {
   "display_name": "Python [default]",
   "language": "python",
   "name": "python3"
  }
 },
 "nbformat": 4,
 "nbformat_minor": 2
}
